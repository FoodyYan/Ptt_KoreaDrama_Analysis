{
 "cells": [
  {
   "cell_type": "code",
   "execution_count": 1,
   "metadata": {},
   "outputs": [],
   "source": [
    "import pandas as pd"
   ]
  },
  {
   "cell_type": "code",
   "execution_count": 2,
   "metadata": {},
   "outputs": [],
   "source": [
    "df = pd.read_csv('PPTkoreadrama_preprocessed_final.csv',sep='|')"
   ]
  },
  {
   "cell_type": "code",
   "execution_count": 3,
   "metadata": {
    "scrolled": true
   },
   "outputs": [
    {
     "data": {
      "text/html": [
       "<div>\n",
       "<style scoped>\n",
       "    .dataframe tbody tr th:only-of-type {\n",
       "        vertical-align: middle;\n",
       "    }\n",
       "\n",
       "    .dataframe tbody tr th {\n",
       "        vertical-align: top;\n",
       "    }\n",
       "\n",
       "    .dataframe thead th {\n",
       "        text-align: right;\n",
       "    }\n",
       "</style>\n",
       "<table border=\"1\" class=\"dataframe\">\n",
       "  <thead>\n",
       "    <tr style=\"text-align: right;\">\n",
       "      <th></th>\n",
       "      <th>item_id</th>\n",
       "      <th>date</th>\n",
       "      <th>title</th>\n",
       "      <th>category</th>\n",
       "      <th>content</th>\n",
       "      <th>link</th>\n",
       "      <th>tokens</th>\n",
       "      <th>tokens_v2</th>\n",
       "      <th>entities</th>\n",
       "      <th>token_pos</th>\n",
       "      <th>top_key_freq</th>\n",
       "      <th>summary</th>\n",
       "      <th>sentiment</th>\n",
       "    </tr>\n",
       "  </thead>\n",
       "  <tbody>\n",
       "    <tr>\n",
       "      <td>0</td>\n",
       "      <td>koreadrama_ 6/18_1</td>\n",
       "      <td>6/18</td>\n",
       "      <td>[新聞] 《機醫2》tvN歷代首播收視紀錄第一</td>\n",
       "      <td>韓劇</td>\n",
       "      <td>機智的醫生生活第二季記錄了tvN歷代電視劇首播收視率第一，正式開始了票房對決。17日首播的t...</td>\n",
       "      <td>https://www.ptt.cc/bbs/KoreaDrama/M.1623972234...</td>\n",
       "      <td>['機智', '的', '醫生', '生活', '第二', '季', '記錄', '了', ...</td>\n",
       "      <td>['醫生', '生活', '電視劇', '收視率', '票房', '對決', '醫生', '...</td>\n",
       "      <td>{(292, 293, 'CARDINAL', '5'), (321, 329, 'WORK...</td>\n",
       "      <td>[('機智', 'VH'), ('的', 'DE'), ('醫生', 'Na'), ('生活...</td>\n",
       "      <td>[('生活', 5), ('醫生', 3), ('收視率', 3), ('首都圈', 3),...</td>\n",
       "      <td>['機智的醫生生活第二季記錄了tvN歷代電視劇首播收視率第一', '這相當於tvN歷代電視劇...</td>\n",
       "      <td>0.0</td>\n",
       "    </tr>\n",
       "  </tbody>\n",
       "</table>\n",
       "</div>"
      ],
      "text/plain": [
       "              item_id   date                    title category  \\\n",
       "0  koreadrama_ 6/18_1   6/18  [新聞] 《機醫2》tvN歷代首播收視紀錄第一       韓劇   \n",
       "\n",
       "                                             content  \\\n",
       "0  機智的醫生生活第二季記錄了tvN歷代電視劇首播收視率第一，正式開始了票房對決。17日首播的t...   \n",
       "\n",
       "                                                link  \\\n",
       "0  https://www.ptt.cc/bbs/KoreaDrama/M.1623972234...   \n",
       "\n",
       "                                              tokens  \\\n",
       "0  ['機智', '的', '醫生', '生活', '第二', '季', '記錄', '了', ...   \n",
       "\n",
       "                                           tokens_v2  \\\n",
       "0  ['醫生', '生活', '電視劇', '收視率', '票房', '對決', '醫生', '...   \n",
       "\n",
       "                                            entities  \\\n",
       "0  {(292, 293, 'CARDINAL', '5'), (321, 329, 'WORK...   \n",
       "\n",
       "                                           token_pos  \\\n",
       "0  [('機智', 'VH'), ('的', 'DE'), ('醫生', 'Na'), ('生活...   \n",
       "\n",
       "                                        top_key_freq  \\\n",
       "0  [('生活', 5), ('醫生', 3), ('收視率', 3), ('首都圈', 3),...   \n",
       "\n",
       "                                             summary  sentiment  \n",
       "0  ['機智的醫生生活第二季記錄了tvN歷代電視劇首播收視率第一', '這相當於tvN歷代電視劇...        0.0  "
      ]
     },
     "execution_count": 3,
     "metadata": {},
     "output_type": "execute_result"
    }
   ],
   "source": [
    "df.head(1)"
   ]
  },
  {
   "cell_type": "code",
   "execution_count": 4,
   "metadata": {},
   "outputs": [
    {
     "name": "stdout",
     "output_type": "stream",
     "text": [
      "['item_id', 'date', 'title', 'category', 'content', 'link', 'tokens', 'tokens_v2', 'entities', 'token_pos', 'top_key_freq', 'summary', 'sentiment']\n"
     ]
    }
   ],
   "source": [
    "col_name =df.columns.tolist()                    #將數據框的列名全部提取出來存放在列表裡\n",
    "print (col_name)"
   ]
  },
  {
   "cell_type": "code",
   "execution_count": 5,
   "metadata": {},
   "outputs": [],
   "source": [
    "col_name.insert( 13, 'title_content' )                       #在列索引為2的位置插入一列,列名為:city，剛插入時不會有值，整列都是NaN "
   ]
  },
  {
   "cell_type": "code",
   "execution_count": 6,
   "metadata": {},
   "outputs": [],
   "source": [
    "df=df.reindex(columns=col_name)               # DataFrame.reindex()對原行/列索引重新構建索引值"
   ]
  },
  {
   "cell_type": "code",
   "execution_count": 7,
   "metadata": {},
   "outputs": [],
   "source": [
    "df[\"title_content\"] = df[\"title\"].map(str) + df[\"content\"]"
   ]
  },
  {
   "cell_type": "code",
   "execution_count": 9,
   "metadata": {
    "scrolled": true
   },
   "outputs": [
    {
     "data": {
      "text/html": [
       "<div>\n",
       "<style scoped>\n",
       "    .dataframe tbody tr th:only-of-type {\n",
       "        vertical-align: middle;\n",
       "    }\n",
       "\n",
       "    .dataframe tbody tr th {\n",
       "        vertical-align: top;\n",
       "    }\n",
       "\n",
       "    .dataframe thead th {\n",
       "        text-align: right;\n",
       "    }\n",
       "</style>\n",
       "<table border=\"1\" class=\"dataframe\">\n",
       "  <thead>\n",
       "    <tr style=\"text-align: right;\">\n",
       "      <th></th>\n",
       "      <th>item_id</th>\n",
       "      <th>date</th>\n",
       "      <th>title</th>\n",
       "      <th>category</th>\n",
       "      <th>content</th>\n",
       "      <th>link</th>\n",
       "      <th>tokens</th>\n",
       "      <th>tokens_v2</th>\n",
       "      <th>entities</th>\n",
       "      <th>token_pos</th>\n",
       "      <th>top_key_freq</th>\n",
       "      <th>summary</th>\n",
       "      <th>sentiment</th>\n",
       "      <th>title_content</th>\n",
       "    </tr>\n",
       "  </thead>\n",
       "  <tbody>\n",
       "    <tr>\n",
       "      <td>1595</td>\n",
       "      <td>koreadrama_ 1/02_1598</td>\n",
       "      <td>1/02</td>\n",
       "      <td>[求薦] 2008年及以前韓劇（推投）</td>\n",
       "      <td>韓劇</td>\n",
       "      <td>因此想辦一個推投看以前的作品有哪些推薦的（其實我想要辦一個最佳韓劇票選活動，如果大家願意讓我...</td>\n",
       "      <td>https://www.ptt.cc/bbs/KoreaDrama/M.1609589946...</td>\n",
       "      <td>['因此', '想', '辦', '一', '個', '推投', '看', '以前', '的...</td>\n",
       "      <td>['推投', '作品', '推薦', '韓劇', '票選', '活動', '推投文', '年...</td>\n",
       "      <td>{(991, 993, 'ORDINAL', '第二'), (233, 236, 'CARD...</td>\n",
       "      <td>[('因此', 'Cbb'), ('想', 'VE'), ('辦', 'VC'), ('一'...</td>\n",
       "      <td>[('作品', 5), ('飯店', 4), ('裴勇俊', 4), ('韓劇', 3), ...</td>\n",
       "      <td>['[email\\xa0protected]     My Girl[email\\xa0pr...</td>\n",
       "      <td>0.01</td>\n",
       "      <td>[求薦] 2008年及以前韓劇（推投）因此想辦一個推投看以前的作品有哪些推薦的（其實我想要辦...</td>\n",
       "    </tr>\n",
       "    <tr>\n",
       "      <td>1596</td>\n",
       "      <td>koreadrama_ 1/02_1599</td>\n",
       "      <td>1/02</td>\n",
       "      <td>[LIVE] 驅魔麵館/驚奇的傳聞 EP9</td>\n",
       "      <td>韓劇</td>\n",
       "      <td>▁▁▁▁▁▁▁▁▁▁▁▁▁▁▁▁▁▁▁▁▁▁▁▁▁▁▁▁▁▁▁▁▁▁官網:http://pr...</td>\n",
       "      <td>https://www.ptt.cc/bbs/KoreaDrama/M.1609590830...</td>\n",
       "      <td>['▁▁▁▁▁▁▁▁▁▁▁▁▁▁▁▁▁▁▁▁▁▁▁▁▁▁▁▁▁▁▁▁▁▁', '官網', '...</td>\n",
       "      <td>['官網', '電視台', '播放', '時間', '台灣', '時間', '台灣', '播...</td>\n",
       "      <td>{(1401, 1404, 'PERSON', '賈莫托'), (2168, 2169, '...</td>\n",
       "      <td>[('▁▁▁▁▁▁▁▁▁▁▁▁▁▁▁▁▁▁▁▁▁▁▁▁▁▁▁▁▁▁▁▁▁▁', 'FW'),...</td>\n",
       "      <td>[('惡鬼', 9), ('蘇文', 7), ('女士', 6), ('世界', 5), (...</td>\n",
       "      <td>['抓拿惡鬼已經過了七年時間', '新人是個高中生嗎', '在那瞬間讀取了蘇文所有的過去ht...</td>\n",
       "      <td>0.00</td>\n",
       "      <td>[LIVE] 驅魔麵館/驚奇的傳聞 EP9▁▁▁▁▁▁▁▁▁▁▁▁▁▁▁▁▁▁▁▁▁▁▁▁▁...</td>\n",
       "    </tr>\n",
       "    <tr>\n",
       "      <td>1597</td>\n",
       "      <td>koreadrama_ 1/03_1600</td>\n",
       "      <td>1/03</td>\n",
       "      <td>Re: [閒聊] JTBC Hush/沉默警報 EP5~6（雷）</td>\n",
       "      <td>韓劇</td>\n",
       "      <td>既然本週停播就想提問一下男主韓俊赫因為6年前矛盾的心理因素而選擇壓抑自己封閉內心搞到妻離子散...</td>\n",
       "      <td>https://www.ptt.cc/bbs/KoreaDrama/M.1609604586...</td>\n",
       "      <td>['既然', '本', '週', '停播', '就', '想', '提問', '一下', '...</td>\n",
       "      <td>['停播', '提問', '男主', '韓俊赫', '心理', '因素', '選擇', '壓...</td>\n",
       "      <td>{(59, 62, 'PERSON', '李PD'), (19, 22, 'DATE', '...</td>\n",
       "      <td>[('既然', 'Cbb'), ('本', 'Nes'), ('週', 'Nf'), ('停...</td>\n",
       "      <td>[('男主', 6), ('內心', 2), ('害死', 2), ('父親', 2), (...</td>\n",
       "      <td>['既然本週停播就想提問一下男主韓俊赫因為6年前矛盾的心理因素而選擇壓抑自己封閉內心搞到妻離...</td>\n",
       "      <td>0.91</td>\n",
       "      <td>Re: [閒聊] JTBC Hush/沉默警報 EP5~6（雷）既然本週停播就想提問一下男主...</td>\n",
       "    </tr>\n",
       "  </tbody>\n",
       "</table>\n",
       "</div>"
      ],
      "text/plain": [
       "                    item_id   date                             title category  \\\n",
       "1595  koreadrama_ 1/02_1598   1/02               [求薦] 2008年及以前韓劇（推投）       韓劇   \n",
       "1596  koreadrama_ 1/02_1599   1/02             [LIVE] 驅魔麵館/驚奇的傳聞 EP9       韓劇   \n",
       "1597  koreadrama_ 1/03_1600   1/03  Re: [閒聊] JTBC Hush/沉默警報 EP5~6（雷）       韓劇   \n",
       "\n",
       "                                                content  \\\n",
       "1595  因此想辦一個推投看以前的作品有哪些推薦的（其實我想要辦一個最佳韓劇票選活動，如果大家願意讓我...   \n",
       "1596  ▁▁▁▁▁▁▁▁▁▁▁▁▁▁▁▁▁▁▁▁▁▁▁▁▁▁▁▁▁▁▁▁▁▁官網:http://pr...   \n",
       "1597  既然本週停播就想提問一下男主韓俊赫因為6年前矛盾的心理因素而選擇壓抑自己封閉內心搞到妻離子散...   \n",
       "\n",
       "                                                   link  \\\n",
       "1595  https://www.ptt.cc/bbs/KoreaDrama/M.1609589946...   \n",
       "1596  https://www.ptt.cc/bbs/KoreaDrama/M.1609590830...   \n",
       "1597  https://www.ptt.cc/bbs/KoreaDrama/M.1609604586...   \n",
       "\n",
       "                                                 tokens  \\\n",
       "1595  ['因此', '想', '辦', '一', '個', '推投', '看', '以前', '的...   \n",
       "1596  ['▁▁▁▁▁▁▁▁▁▁▁▁▁▁▁▁▁▁▁▁▁▁▁▁▁▁▁▁▁▁▁▁▁▁', '官網', '...   \n",
       "1597  ['既然', '本', '週', '停播', '就', '想', '提問', '一下', '...   \n",
       "\n",
       "                                              tokens_v2  \\\n",
       "1595  ['推投', '作品', '推薦', '韓劇', '票選', '活動', '推投文', '年...   \n",
       "1596  ['官網', '電視台', '播放', '時間', '台灣', '時間', '台灣', '播...   \n",
       "1597  ['停播', '提問', '男主', '韓俊赫', '心理', '因素', '選擇', '壓...   \n",
       "\n",
       "                                               entities  \\\n",
       "1595  {(991, 993, 'ORDINAL', '第二'), (233, 236, 'CARD...   \n",
       "1596  {(1401, 1404, 'PERSON', '賈莫托'), (2168, 2169, '...   \n",
       "1597  {(59, 62, 'PERSON', '李PD'), (19, 22, 'DATE', '...   \n",
       "\n",
       "                                              token_pos  \\\n",
       "1595  [('因此', 'Cbb'), ('想', 'VE'), ('辦', 'VC'), ('一'...   \n",
       "1596  [('▁▁▁▁▁▁▁▁▁▁▁▁▁▁▁▁▁▁▁▁▁▁▁▁▁▁▁▁▁▁▁▁▁▁', 'FW'),...   \n",
       "1597  [('既然', 'Cbb'), ('本', 'Nes'), ('週', 'Nf'), ('停...   \n",
       "\n",
       "                                           top_key_freq  \\\n",
       "1595  [('作品', 5), ('飯店', 4), ('裴勇俊', 4), ('韓劇', 3), ...   \n",
       "1596  [('惡鬼', 9), ('蘇文', 7), ('女士', 6), ('世界', 5), (...   \n",
       "1597  [('男主', 6), ('內心', 2), ('害死', 2), ('父親', 2), (...   \n",
       "\n",
       "                                                summary  sentiment  \\\n",
       "1595  ['[email\\xa0protected]     My Girl[email\\xa0pr...       0.01   \n",
       "1596  ['抓拿惡鬼已經過了七年時間', '新人是個高中生嗎', '在那瞬間讀取了蘇文所有的過去ht...       0.00   \n",
       "1597  ['既然本週停播就想提問一下男主韓俊赫因為6年前矛盾的心理因素而選擇壓抑自己封閉內心搞到妻離...       0.91   \n",
       "\n",
       "                                          title_content  \n",
       "1595  [求薦] 2008年及以前韓劇（推投）因此想辦一個推投看以前的作品有哪些推薦的（其實我想要辦...  \n",
       "1596  [LIVE] 驅魔麵館/驚奇的傳聞 EP9▁▁▁▁▁▁▁▁▁▁▁▁▁▁▁▁▁▁▁▁▁▁▁▁▁...  \n",
       "1597  Re: [閒聊] JTBC Hush/沉默警報 EP5~6（雷）既然本週停播就想提問一下男主...  "
      ]
     },
     "execution_count": 9,
     "metadata": {},
     "output_type": "execute_result"
    }
   ],
   "source": [
    "df.tail(3)"
   ]
  },
  {
   "cell_type": "code",
   "execution_count": 10,
   "metadata": {},
   "outputs": [],
   "source": [
    "# 無意義字元列表，可以自行新增\n",
    "removeword = ['span','class','f3','https','imgur','h1','_   blank','href','rel',\n",
    "              'nofollow','target','cdn','cgi','b4','jpg','hl','b1','f5','f4',\n",
    "              'goo.gl','f2','email','map','f1','f6','__cf___','data','bbs'\n",
    "              'html','cf','f0','b2','b3','b5','b6','原文內容','原文連結','作者'\n",
    "              '標題','時間','看板','<','>','，','。','？','—','閒聊','・','/',\n",
    "              ' ','=','\\\"','\\n','」','「','！','[',']','：','‧','╦','╔','╗','║'\n",
    "              ,'╠','╬','╬',':','╰','╩','╯','╭','╮','│','╪','─','《','》','_'\n",
    "              ,'.','、','（','）','　','*','※','~','○','”','“','～','@','＋']\n",
    "for word in removeword:\n",
    "    df['title_content'] = df['title_content'].str.replace(word,'')"
   ]
  },
  {
   "cell_type": "code",
   "execution_count": 11,
   "metadata": {},
   "outputs": [
    {
     "data": {
      "text/plain": [
       "'新聞機醫2tvN歷代首播收視紀錄第一機智的醫生生活第二季記錄了tvN歷代電視劇首播收視率第一正式開始了票房對決17日首播的tvN機智的醫生生活第二季導演申元浩編劇李祐汀企劃tvN製作Eggiscoming第一集以首都圈家庭為基準平均117%最高149%以全國家庭為基準平均10%,最高124%tvN的目標男女2049收視率是首都圈平均7%最高92%全國平均67%最高84%在包括首都圈標準地面波在內的所有頻道中佔據了第一位這相當於tvN歷代電視劇首播收視率第一名綜合有線IPTV衛星收費平臺標準尼爾森韓國提供在當天的節目中在律帝醫院再次開始的醫科大學同期5人幫的平凡日常生活和激烈的醫院生活(劇情略)另外機智的醫生生活2講述的是在有人出生有人結束人生的人生縮影的醫院裏過著平凡又特別的每一天的人和只看眼神就能知道20年知己朋友之間的化學故事每週四晚9點播出'"
      ]
     },
     "execution_count": 11,
     "metadata": {},
     "output_type": "execute_result"
    }
   ],
   "source": [
    "df.title_content[0]"
   ]
  },
  {
   "cell_type": "code",
   "execution_count": 16,
   "metadata": {},
   "outputs": [
    {
     "name": "stdout",
     "output_type": "stream",
     "text": [
      "1900-02-01 00:00:00\n",
      "02/01\n"
     ]
    }
   ],
   "source": [
    "# from datetime import datetime as dt\n",
    "import datetime\n",
    "old_date = \"1/1\"\n",
    "old_date_temp = datetime.datetime.strptime(old_date, \"%m/%d\")\n",
    "new_date = old_date_temp + datetime.timedelta(days=1)\n",
    "print(new_date)\n",
    "new_date = new_date.strftime(\"%m/%d\")\n",
    "print(new_date)"
   ]
  },
  {
   "cell_type": "code",
   "execution_count": null,
   "metadata": {},
   "outputs": [],
   "source": [
    "drama_list[]=[\n",
    "['Mouse窺探','Mouse','窺探'],['怪物'],['Law School'],['Undercover'],['Run On奔向愛情','Run On','奔向愛情']\n",
    ",['女神降臨']\n",
    ",['五月的青春']\n",
    ",['前輩，那支口紅不要塗','前輩那支口紅不要塗']\n",
    ",['婚詞離曲']\n",
    ",['所以我和黑粉結婚了']\n",
    ",['黑道律師文森佐','黑道律師','文森佐']\n",
    ",['模範計程車']\n",
    ",['Penthouse上流戰爭','Penthouse','上流戰爭']\n",
    ",['Mine我的上流世界','我的上流世界','Mine']\n",
    ",['如蝶翩翩']\n",
    ",['我是遺物整理師','Move to Heaven']\n",
    ",['大發不動產']\n",
    ",['黑洞']\n",
    ",['在我筆下的命運']\n",
    ",['某一天滅亡來到我家門前','滅亡']]"
   ]
  },
  {
   "cell_type": "code",
   "execution_count": 48,
   "metadata": {
    "scrolled": false
   },
   "outputs": [
    {
     "name": "stdout",
     "output_type": "stream",
     "text": [
      "1900-01-01 00:00:00\n",
      "<class 'datetime.datetime'>\n",
      "1900-01-02 00:00:00\n"
     ]
    }
   ],
   "source": []
  },
  {
   "cell_type": "code",
   "execution_count": null,
   "metadata": {},
   "outputs": [],
   "source": []
  }
 ],
 "metadata": {
  "kernelspec": {
   "display_name": "Python 3",
   "language": "python",
   "name": "python3"
  },
  "language_info": {
   "codemirror_mode": {
    "name": "ipython",
    "version": 3
   },
   "file_extension": ".py",
   "mimetype": "text/x-python",
   "name": "python",
   "nbconvert_exporter": "python",
   "pygments_lexer": "ipython3",
   "version": "3.7.4"
  }
 },
 "nbformat": 4,
 "nbformat_minor": 2
}
